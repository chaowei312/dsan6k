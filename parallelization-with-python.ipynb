{
 "cells": [
  {
   "cell_type": "markdown",
   "metadata": {},
   "source": [
    "# Lab - Parallel Processing in Python\n",
    "\n",
    "## Introduction\n",
    "\n",
    "Parallel processing is a mode of operation where tasks are executed simultaneously across multiple processors on the same computer. This approach is designed to reduce overall processing time for computationally intensive operations.\n",
    "\n",
    "However, there is usually a bit of overhead when communicating between processes which can actually increase the overall time taken for small tasks instead of decreasing it. Understanding when and how to apply parallel processing is crucial for effective optimization.\n",
    "\n",
    "In Python, the `multiprocessing` module is used to run independent parallel processes by using subprocesses (instead of threads). It allows you to leverage multiple processors on a machine, which means the processes can be run in completely separate memory locations. This is particularly important in Python due to the Global Interpreter Lock (GIL).\n",
    "\n",
    "## Learning Objectives\n",
    "\n",
    "By the end of this lab you will:\n",
    "\n",
    "* Understand how to structure code and use syntax for parallel processing with `multiprocessing`\n",
    "* Implement both synchronous and asynchronous parallel processing\n",
    "* Learn to parallelize operations on Pandas DataFrames\n",
    "* Solve 3 different use cases using the `multiprocessing.Pool()` interface\n",
    "* Compare performance between serial and parallel implementations\n",
    "\n",
    "## Environment Note\n",
    "\n",
    "This lab is designed to run on your Amazon EC2 instance accessed through VSCode. All multiprocessing features will work correctly in this Linux environment."
   ]
  },
  {
   "cell_type": "markdown",
   "metadata": {},
   "source": [
    "Import `multiprocessing` (you may need to install it)"
   ]
  },
  {
   "cell_type": "code",
   "execution_count": 1,
   "metadata": {},
   "outputs": [],
   "source": [
    "import multiprocessing as mp"
   ]
  },
  {
   "cell_type": "markdown",
   "metadata": {},
   "source": [
    "Determine the maximum number of parallel processes can you run. Note: you don't want to use all the available cores since your computer needs to process other things as well."
   ]
  },
  {
   "cell_type": "code",
   "execution_count": 2,
   "metadata": {},
   "outputs": [
    {
     "name": "stdout",
     "output_type": "stream",
     "text": [
      "Number of processors:  2\n"
     ]
    }
   ],
   "source": [
    "print(\"Number of processors: \", mp.cpu_count())"
   ]
  },
  {
   "cell_type": "markdown",
   "metadata": {},
   "source": [
    "## Synchronous and Asynchronous execution\n",
    "\n",
    "In parallel processing, there are two types of execution models:\n",
    "\n",
    "* **_Synchronous_** runs the processes in the same order in which they were started. This is achieved by locking the main program until the respective processes are finished.\n",
    "\n",
    "* **_Asynchronous_**, on the other hand, doesn’t involve locking. As a result, the order of results can get mixed up but usually gets done quicker.\n",
    "\n",
    "There are 2 main objects in `multiprocessing` to implement parallel execution of a function: The `Pool` Class and the `Process` Class.\n",
    "\n",
    "### `Pool` Class\n",
    "\n",
    "* Synchronous execution\n",
    "    * `Pool.map()` and `Pool.starmap()`\n",
    "    * `Pool.apply()` not used in lab\n",
    "    \n",
    "* Asynchronous execution\n",
    "    * `Pool.map_async()` and `Pool.starmap_async()`\n",
    "    * `Pool.apply_async())` not used in lab\n",
    "\n",
    "### `Process` Class\n",
    "\n",
    "Let’s take up a typical problem and implement parallelization using the above techniques. In this lab, we stick to the `Pool` class, because it is most convenient to use and serves most common practical applications.\n",
    "\n",
    "More info on these classes [here]((https://docs.python.org/3/library/multiprocessing.html))\n",
    "\n",
    "Read about the differences between apply, map, and starmap [here](https://stackoverflow.com/questions/8533318/multiprocessing-pool-when-to-use-apply-apply-async-or-map)"
   ]
  },
  {
   "cell_type": "markdown",
   "metadata": {},
   "source": [
    "## Example\n",
    "\n",
    "Given a 2D matrix (or list of lists), count how many numbers are present between a given range in each row. We will transform a matrix into a list of rows. \n",
    "\n",
    "Import the following libraries:"
   ]
  },
  {
   "cell_type": "code",
   "execution_count": 3,
   "metadata": {},
   "outputs": [],
   "source": [
    "import numpy as np\n",
    "from time import time"
   ]
  },
  {
   "cell_type": "markdown",
   "metadata": {},
   "source": [
    "Use `np.randon.RandomState(100)` to set a random seed."
   ]
  },
  {
   "cell_type": "code",
   "execution_count": 4,
   "metadata": {},
   "outputs": [
    {
     "data": {
      "text/plain": [
       "RandomState(MT19937) at 0x7D2EDC3D3D40"
      ]
     },
     "execution_count": 4,
     "metadata": {},
     "output_type": "execute_result"
    }
   ],
   "source": [
    "np.random.RandomState(100)"
   ]
  },
  {
   "cell_type": "markdown",
   "metadata": {},
   "source": [
    "Let's create a large numpy array matrix of integers between 0 and 9 with 1,000,000 rows and 5 columns. You can use `np.randon.randint` for this."
   ]
  },
  {
   "cell_type": "code",
   "execution_count": 5,
   "metadata": {},
   "outputs": [],
   "source": [
    "arr = np.random.randint(0, 10, size=[1000000, 5])"
   ]
  },
  {
   "cell_type": "markdown",
   "metadata": {},
   "source": [
    "Convert the array you created in the previous step to a list using `tolist()`."
   ]
  },
  {
   "cell_type": "code",
   "execution_count": 6,
   "metadata": {},
   "outputs": [],
   "source": [
    "data = arr.tolist()"
   ]
  },
  {
   "cell_type": "markdown",
   "metadata": {},
   "source": [
    "Explore your array"
   ]
  },
  {
   "cell_type": "code",
   "execution_count": 7,
   "metadata": {},
   "outputs": [
    {
     "data": {
      "text/plain": [
       "array([[4, 4, 2, 5, 9],\n",
       "       [7, 4, 7, 9, 5],\n",
       "       [4, 0, 8, 4, 3],\n",
       "       ...,\n",
       "       [7, 0, 8, 1, 5],\n",
       "       [1, 4, 8, 6, 2],\n",
       "       [6, 7, 4, 3, 6]])"
      ]
     },
     "execution_count": 7,
     "metadata": {},
     "output_type": "execute_result"
    }
   ],
   "source": [
    "arr"
   ]
  },
  {
   "cell_type": "markdown",
   "metadata": {},
   "source": [
    "Check that the length of your list is 1,000,000"
   ]
  },
  {
   "cell_type": "code",
   "execution_count": 8,
   "metadata": {},
   "outputs": [
    {
     "data": {
      "text/plain": [
       "1000000"
      ]
     },
     "execution_count": 8,
     "metadata": {},
     "output_type": "execute_result"
    }
   ],
   "source": [
    "len(data)"
   ]
  },
  {
   "cell_type": "markdown",
   "metadata": {},
   "source": [
    "### Implement solution without parallelization\n",
    "\n",
    "Let’s see how long it takes to compute it without parallelization. For this, we create a function called `howmany_within_range()` and we iterate the function over every row of the matrix. Since we converted the matrix to a list, then we iterate over every element in the list. The function receives all the values on the row (list element) as input and return the count."
   ]
  },
  {
   "cell_type": "code",
   "execution_count": 9,
   "metadata": {},
   "outputs": [],
   "source": [
    "def howmany_within_range(row, minimum, maximum):\n",
    "    \"\"\"Returns how many numbers lie within `maximum` and `minimum` in a given `row`\"\"\"\n",
    "    count = 0\n",
    "    for n in row:\n",
    "        if minimum <= n <= maximum:\n",
    "            count = count + 1\n",
    "    return count"
   ]
  },
  {
   "cell_type": "markdown",
   "metadata": {},
   "source": [
    "Iterate the function `howmany_within_range` over every row in the matrix and measure the time."
   ]
  },
  {
   "cell_type": "code",
   "execution_count": 10,
   "metadata": {},
   "outputs": [
    {
     "name": "stdout",
     "output_type": "stream",
     "text": [
      "0.4192681312561035\n"
     ]
    }
   ],
   "source": [
    "import time\n",
    "\n",
    "start = time.time()\n",
    "# TODO: Fill in code here to iterate howmany_within_range over every row\n",
    "# Process each row in data with minimum=4, maximum=8\n",
    "results = []\n",
    "for row in data:\n",
    "    results.append(howmany_within_range(row, 4, 8))\n",
    "\n",
    "end = time.time()\n",
    "print(end - start)"
   ]
  },
  {
   "cell_type": "code",
   "execution_count": null,
   "metadata": {},
   "outputs": [],
   "source": []
  },
  {
   "cell_type": "markdown",
   "metadata": {},
   "source": [
    "Print the first 10 results"
   ]
  },
  {
   "cell_type": "code",
   "execution_count": 11,
   "metadata": {},
   "outputs": [
    {
     "data": {
      "text/plain": [
       "[3, 4, 3, 1, 2, 1, 2, 3, 0, 3]"
      ]
     },
     "execution_count": 11,
     "metadata": {},
     "output_type": "execute_result"
    }
   ],
   "source": [
    "results[:10]"
   ]
  },
  {
   "cell_type": "markdown",
   "metadata": {},
   "source": [
    "Check that the length of results is 1,000,000 and your implementation didn't cheat!"
   ]
  },
  {
   "cell_type": "code",
   "execution_count": 12,
   "metadata": {},
   "outputs": [
    {
     "data": {
      "text/plain": [
       "1000000"
      ]
     },
     "execution_count": 12,
     "metadata": {},
     "output_type": "execute_result"
    }
   ],
   "source": [
    "len(results)"
   ]
  },
  {
   "cell_type": "markdown",
   "metadata": {},
   "source": [
    "## How to parallelize any function?\n",
    "\n",
    "### Platform Note\n",
    "This notebook is designed to run on Amazon EC2 instances accessed through VSCode. The multiprocessing examples will work correctly in this Linux environment.\n",
    "\n",
    "The general way to parallelize any operation is to take a particular function that should be run multiple times and make it run in parallel using different processors.\n",
    "\n",
    "To do this, you initialize a _Pool_ with n number of processors (or cores) and pass the function you want to parallelize to one of _Pool's_ parallelization methods.\n",
    "\n",
    "`multiprocessing.Pool()` provides the `apply()`, `map()` and `starmap()` methods to make any function run in parallel.\n",
    "\n",
    "### Key Differences Between Methods\n",
    "\n",
    "Both `apply` and `map` take the function to be \"parallelized\" as the main argument. But the difference is:\n",
    "- `apply()` takes an _args_ argument that accepts the parameters passed to the _function-to-be-parallelized_ as an argument\n",
    "- `map()` can take only one _iterable_ as an argument\n",
    "\n",
    "This is because `apply()` only runs one worker in the pool (so it's not true parallelization of the function), while `map()` distributes work across all workers in the pool.\n",
    "\n",
    "So `map()` is really more suitable for simpler iterable operations and also does the job faster because it uses all available workers.\n",
    "\n",
    "We will explore `starmap()` once we see how to parallelize `howmany_within_range()` function with `apply()` and `map()`."
   ]
  },
  {
   "cell_type": "markdown",
   "metadata": {},
   "source": [
    "### Parallelizing using `Pool.map()`\n",
    "\n",
    "`Pool.map()` accepts only _one iterable as argument_. So as a workaround, we modify the `howmany_within_range` function by setting a default to the minimum and maximum parameters to create a new `howmany_within_range_rowonly()` function so it accetps only an _iterable list_ of rows as input. This is not a nice use case of map(), but it clearly shows how it differs from apply()."
   ]
  },
  {
   "cell_type": "code",
   "execution_count": 13,
   "metadata": {},
   "outputs": [
    {
     "name": "stdout",
     "output_type": "stream",
     "text": [
      "total time 1.2076263427734375\n",
      "time to set up pool 0.05729961395263672\n",
      "time to multiprocess 1.1481118202209473\n",
      "[3, 4, 3, 1, 2, 1, 2, 3, 0, 3]\n",
      "1000000\n"
     ]
    }
   ],
   "source": [
    "# Parallelizing using Pool.map()\n",
    "\n",
    "# TODO: Redefine function with only 1 mandatory argument\n",
    "# Create howmany_within_range_rowonly() with default parameters\n",
    "def howmany_within_range_rowonly(row, minimum=4, maximum=8):\n",
    "    \"\"\"Returns how many numbers lie within `maximum` and `minimum` in a given `row`\"\"\"\n",
    "    count = 0\n",
    "    for n in row:\n",
    "        if minimum <= n <= maximum:\n",
    "            count = count + 1\n",
    "    return count\n",
    "\n",
    "start = time.time()\n",
    "pool = mp.Pool(mp.cpu_count())\n",
    "\n",
    "t1 = time.time()\n",
    "# TODO: Use pool.map function\n",
    "results_map = pool.map(howmany_within_range_rowonly, data)\n",
    "\n",
    "t2 = time.time()\n",
    "pool.close()\n",
    "end = time.time()\n",
    "\n",
    "print('total time',end - start)\n",
    "print('time to set up pool',t1 - start)\n",
    "print('time to multiprocess',t2 - t1)\n",
    "\n",
    "# Print results after implementing\n",
    "print(results_map[:10])\n",
    "print(len(results_map))"
   ]
  },
  {
   "cell_type": "code",
   "execution_count": null,
   "metadata": {},
   "outputs": [],
   "source": []
  },
  {
   "cell_type": "markdown",
   "metadata": {},
   "source": [
    "### Parallelizing using `Pool.starmap()`\n",
    "\n",
    "In previous example, we have to redefine `howmany_within_range` function to make couple of parameters to take default values. Using `starmap()`, you can avoid doing this. How you ask?\n",
    "\n",
    "Like `Pool.map()`, `Pool.starmap()` also accepts only one iterable as argument, but in `starmap()`, each element in that iterable is also a iterable. You can to provide the arguments to the _function-to-be-parallelized_ in the same order in this inner iterable element, will in turn be unpacked during execution. Internally Python is performing `_function-to-be-parallelized_(*args)`, for each iteration, where `args` are the iterable argument supplied to `Pool.starmap`.\n",
    "\n",
    "So effectively, `Pool.starmap()` is like a version of Pool.map() that accepts arguments."
   ]
  },
  {
   "cell_type": "code",
   "execution_count": 14,
   "metadata": {},
   "outputs": [
    {
     "name": "stdout",
     "output_type": "stream",
     "text": [
      "[3, 4, 3, 1, 2, 1, 2, 3, 0, 3]\n",
      "1000000\n"
     ]
    }
   ],
   "source": [
    "# Parallelizing with Pool.starmap()\n",
    "import multiprocessing as mp\n",
    "\n",
    "pool = mp.Pool(mp.cpu_count())\n",
    "\n",
    "# TODO: Use pool.starmap with the original howmany_within_range function\n",
    "data_with_args = [(row, 4, 8) for row in data]\n",
    "\n",
    "# Use pool.starmap to parallelize with multiple arguments\n",
    "results_starmap = pool.starmap(howmany_within_range, data_with_args)\n",
    "\n",
    "pool.close()\n",
    "\n",
    "# TODO: Print results after implementing\n",
    "print(results_starmap[:10])\n",
    "print(len(results_starmap))"
   ]
  },
  {
   "cell_type": "code",
   "execution_count": null,
   "metadata": {},
   "outputs": [],
   "source": []
  },
  {
   "cell_type": "markdown",
   "metadata": {},
   "source": [
    "## Asynchronous Parallel Processing\n",
    "\n",
    "The asynchronous equivalents `apply_async()`, `map_async()` and `starmap_async()` lets you do execute the processes in parallel asynchronously, that is the next process can start as soon as previous one gets over without regard for the starting order. As a result, there is no guarantee that the result will be in the same order as the input."
   ]
  },
  {
   "cell_type": "markdown",
   "metadata": {},
   "source": [
    "## Parallelizing with `Pool.starmap_async()`\n",
    "\n",
    "You saw how `apply_async()` works. Can you imagine and write up an equivalent version for starmap_async and map_async? The implementation is below anyways."
   ]
  },
  {
   "cell_type": "code",
   "execution_count": 15,
   "metadata": {},
   "outputs": [
    {
     "name": "stdout",
     "output_type": "stream",
     "text": [
      "[(0, 3), (1, 4), (2, 3), (3, 1), (4, 2), (5, 1), (6, 2), (7, 3), (8, 0), (9, 3)]\n",
      "1000000\n"
     ]
    }
   ],
   "source": [
    "# Parallelizing with Pool.starmap_async()\n",
    "\n",
    "def howmany_within_range2(i, row, minimum, maximum):\n",
    "    \"\"\"Returns how many numbers lie within `maximum` and `minimum` in a given `row`\"\"\"\n",
    "    count = 0\n",
    "    for n in row:\n",
    "        if minimum <= n <= maximum:\n",
    "            count = count + 1\n",
    "    return (i, count)\n",
    "\n",
    "pool = mp.Pool(mp.cpu_count())\n",
    "\n",
    "# TODO: Use starmap_async to process the data\n",
    "# Remember to use .get() to retrieve results from async call\n",
    "data_with_index_args = [(i, row, 4, 8) for i, row in enumerate(data)]\n",
    "\n",
    "# Use starmap_async for asynchronous parallel processing\n",
    "async_result = pool.starmap_async(howmany_within_range2, data_with_index_args)\n",
    "\n",
    "# Retrieve results with .get()\n",
    "results_async = async_result.get()\n",
    "\n",
    "pool.close()\n",
    "\n",
    "# TODO: Print results after implementing\n",
    "print(results_async[:10])\n",
    "print(len(results_async))"
   ]
  },
  {
   "cell_type": "markdown",
   "metadata": {},
   "source": [
    "# Exercises"
   ]
  },
  {
   "cell_type": "markdown",
   "metadata": {},
   "source": [
    "## Problem 1\n",
    "\n",
    "Use `Pool.starmap()` to get the row wise common items in list_a and list_b. Each iteration will be row_i in list_a and list_b:\n",
    "\n",
    "```\n",
    "list_a = [[1, 2, 3], [5, 6, 7, 8], [10, 11, 12], [20, 21]]\n",
    "list_b = [[2, 3, 4, 5], [6, 9, 10], [11, 12, 13, 14], [21, 24, 25]]\n",
    "```"
   ]
  },
  {
   "cell_type": "code",
   "execution_count": 16,
   "metadata": {},
   "outputs": [
    {
     "name": "stdout",
     "output_type": "stream",
     "text": [
      "[[2, 3], [6], [11, 12], [21]]\n"
     ]
    }
   ],
   "source": [
    "import multiprocessing as mp\n",
    "\n",
    "list_a = [[1, 2, 3], [5, 6, 7, 8], [10, 11, 12], [20, 21]]\n",
    "list_b = [[2, 3, 4, 5], [6, 9, 10], [11, 12, 13, 14], [21, 24, 25]]\n",
    "\n",
    "# TODO: Define a function to find common elements between two lists\n",
    "def common_item(list_a, list_b):\n",
    "    return list(set(list_a) & set(list_b))\n",
    "\n",
    "# TODO: Use Pool.starmap to apply common_item to corresponding rows\n",
    "# Save result as prob1_answer\n",
    "pool = mp.Pool(mp.cpu_count())\n",
    "prob1_answer = pool.starmap(common_item, zip(list_a, list_b))\n",
    "pool.close()\n",
    "    \n",
    "print(prob1_answer)"
   ]
  },
  {
   "cell_type": "markdown",
   "metadata": {},
   "source": [
    "## Problem 2: CPU-Intensive Work Performance Comparison\n",
    "\n",
    "### Overview\n",
    "Compare serial vs parallel execution for CPU-intensive tasks using the `do_busy_work` function from `script.py`.\n",
    "\n",
    "### The do_busy_work Function\n",
    "The `do_busy_work(time_in_seconds: int) -> float` function:\n",
    "- Takes an integer representing seconds of work to simulate\n",
    "- Sleeps for that many seconds (simulating CPU-intensive work)\n",
    "- Prints process ID and timing information\n",
    "- Returns the actual elapsed time as a float\n",
    "\n",
    "### Instructions\n",
    "\n",
    "Your task:\n",
    "\n",
    "1. **Part A - Serial Execution**: \n",
    "   - Process the list `[1, 2, 4, 6]` serially using the built-in `map()` function\n",
    "   - Expected total time: ~13 seconds on an 8-core machine (1+2+4+6)\n",
    "\n",
    "2. **Part B - Parallel with CPU Count**:\n",
    "   - Use `multiprocessing.Pool` with size = `mp.cpu_count()`\n",
    "   - Expected time: ~6 seconds (limited by longest task)\n",
    "\n",
    "3. **Part C - Parallel with Optimal Pool Size**:\n",
    "   - Use `multiprocessing.Pool` with size = `len(work_list)`\n",
    "   - Compare performance with Part B\n",
    "\n",
    "### Key Concepts\n",
    "- Observe how parallel execution reduces total time\n",
    "- Understand relationship between pool size and performance\n",
    "- See why parallel time is limited by the longest individual task"
   ]
  },
  {
   "cell_type": "code",
   "execution_count": null,
   "metadata": {},
   "outputs": [
    {
     "name": "stdout",
     "output_type": "stream",
     "text": [
      "=== Part A: Serial Execution ===\n",
      "\n",
      "do_busy_work, pid=1686, enter\n",
      "do_busy_work, pid=1686, exit, elapsed_time=1.00 seconds\n",
      "\n",
      "do_busy_work, pid=1686, enter\n",
      "do_busy_work, pid=1686, exit, elapsed_time=2.00 seconds\n",
      "\n",
      "do_busy_work, pid=1686, enter\n",
      "do_busy_work, pid=1686, exit, elapsed_time=4.00 seconds\n",
      "\n",
      "do_busy_work, pid=1686, enter\n",
      "do_busy_work, pid=1686, exit, elapsed_time=6.00 seconds\n",
      "\n",
      "Serial execution time: 13.00 seconds\n",
      "Expected ~13 seconds on an 8-core machine, got 13.00 seconds\n",
      "\n",
      "=== Part B: Parallel with CPU Count ===\n",
      "\n",
      "do_busy_work, pid=2050, enter\n",
      "do_busy_work, pid=2051, enter\n",
      "\n",
      "do_busy_work, pid=2050, exit, elapsed_time=1.00 seconds\n",
      "\n",
      "do_busy_work, pid=2050, enter\n",
      "do_busy_work, pid=2051, exit, elapsed_time=2.00 seconds\n",
      "\n",
      "do_busy_work, pid=2051, enter\n",
      "do_busy_work, pid=2050, exit, elapsed_time=4.00 seconds\n",
      "do_busy_work, pid=2051, exit, elapsed_time=6.00 seconds\n",
      "\n",
      "Parallel execution time (CPU count=2): 8.07 seconds\n",
      "\n",
      "=== Part C: Parallel with Optimal Pool Size ===\n",
      "\n",
      "do_busy_work, pid=2113, enter\n",
      "\n",
      "do_busy_work, pid=2114, enter\n",
      "do_busy_work, pid=2115, enter\n",
      "do_busy_work, pid=2116, enter\n",
      "\n",
      "\n",
      "do_busy_work, pid=2113, exit, elapsed_time=1.00 seconds\n",
      "do_busy_work, pid=2114, exit, elapsed_time=2.00 seconds\n",
      "do_busy_work, pid=2115, exit, elapsed_time=4.00 seconds\n",
      "do_busy_work, pid=2116, exit, elapsed_time=6.00 seconds\n",
      "\n",
      "Parallel execution time (pool size=4): 6.11 seconds\n",
      "\n",
      "==================================================\n",
      "PERFORMANCE SUMMARY\n",
      "==================================================\n",
      "Serial: 13.00s | Parallel (CPU): 8.07s (1.61x) | Parallel (optimal): 6.11s (2.13x)\n"
     ]
    }
   ],
   "source": [
    "import time\n",
    "from typing import List\n",
    "import multiprocessing as mp\n",
    "from script import do_busy_work\n",
    "\n",
    "work: List = [1, 2, 4, 6]\n",
    "\n",
    "print(\"=== Part A: Serial Execution ===\")\n",
    "start = time.perf_counter()\n",
    "\n",
    "# TODO: Serial execution using map()\n",
    "results_serial = list(map(do_busy_work, work))\n",
    "\n",
    "time_elapsed = time.perf_counter() - start\n",
    "prob2_part1_answer = time_elapsed\n",
    "print(f\"\\nSerial execution time: {time_elapsed:.2f} seconds\")\n",
    "print(f\"Expected ~13 seconds on an 8-core machine, got {time_elapsed:.2f} seconds\")\n",
    "\n",
    "print(\"\\n=== Part B: Parallel with CPU Count ===\")\n",
    "start = time.perf_counter()\n",
    "\n",
    "# TODO: Parallel execution with CPU count\n",
    "pool_cpu = mp.Pool(mp.cpu_count())\n",
    "results_parallel_cpu = pool_cpu.map(do_busy_work, work)\n",
    "pool_cpu.close()\n",
    "pool_cpu.join()\n",
    "\n",
    "time_elapsed = time.perf_counter() - start\n",
    "prob2_part2_answer = time_elapsed\n",
    "print(f\"\\nParallel execution time (CPU count={mp.cpu_count()}): {time_elapsed:.2f} seconds\")\n",
    "\n",
    "print(\"\\n=== Part C: Parallel with Optimal Pool Size ===\")\n",
    "start = time.perf_counter()\n",
    "\n",
    "# TODO: Parallel execution with pool size = work list size\n",
    "pool_optimal = mp.Pool(len(work))\n",
    "results_parallel_opt = pool_optimal.map(do_busy_work, work)\n",
    "pool_optimal.close()\n",
    "pool_optimal.join()\n",
    "\n",
    "time_elapsed = time.perf_counter() - start\n",
    "prob2_part3_answer = time_elapsed\n",
    "print(f\"\\nParallel execution time (pool size={len(work)}): {time_elapsed:.2f} seconds\")\n",
    "\n",
    "# TODO: Uncomment after implementing all parts to see performance summary\n",
    "print(\"\\n\" + \"=\"*50)\n",
    "print(\"PERFORMANCE SUMMARY\")\n",
    "print(\"=\"*50)\n",
    "speedup_cpu = prob2_part1_answer/prob2_part2_answer\n",
    "speedup_opt = prob2_part1_answer/prob2_part3_answer\n",
    "print(f\"Serial: {prob2_part1_answer:.2f}s | Parallel (CPU): {prob2_part2_answer:.2f}s ({speedup_cpu:.2f}x) | Parallel (optimal): {prob2_part3_answer:.2f}s ({speedup_opt:.2f}x)\")"
   ]
  },
  {
   "cell_type": "markdown",
   "metadata": {},
   "source": [
    "## Problem 3: Large-Scale Parallel Data Processing\n",
    "\n",
    "### Overview\n",
    "Real-world data processing often involves operations on large datasets where parallelization can provide significant performance benefits. In this problem, you'll normalize a large dataset and observe how parallel processing scales with data size."
   ]
  },
  {
   "cell_type": "code",
   "execution_count": null,
   "metadata": {},
   "outputs": [
    {
     "name": "stdout",
     "output_type": "stream",
     "text": [
      "=== Testing normalization function ===\n",
      "Row 0: [2, 3, 4, 5] -> [0.0, 0.3333333333333333, 0.6666666666666666, 1.0]\n",
      "Row 1: [6, 9, 10, 12] -> [0.0, 0.5, 0.6666666666666666, 1.0]\n",
      "Row 2: [11, 12, 13, 14] -> [0.0, 0.3333333333333333, 0.6666666666666666, 1.0]\n",
      "Row 3: [21, 24, 25, 26] -> [0.0, 0.6, 0.8, 1.0]\n",
      "Row 4: [100, 100, 100, 100] -> [0.0, 0.0, 0.0, 0.0]\n",
      "\n",
      "======================================================================\n",
      "PERFORMANCE COMPARISON WITH DIFFERENT DATASET SIZES\n",
      "======================================================================\n",
      "\n",
      "--- Small Dataset: 100 rows × 50 columns ---\n",
      "Running serial processing...\n",
      "  Serial time: 0.0010 seconds\n",
      "Running parallel processing (2 cores)...\n",
      "  Parallel time: 0.0497 seconds\n",
      "  Speedup: 0.02x\n",
      "\n",
      "--- Medium Dataset: 1,000 rows × 50 columns ---\n",
      "Running serial processing...\n",
      "  Serial time: 0.0094 seconds\n",
      "Running parallel processing (2 cores)...\n",
      "  Parallel time: 0.0674 seconds\n",
      "  Speedup: 0.14x\n",
      "\n",
      "--- Large Dataset: 10,000 rows × 50 columns ---\n",
      "Running serial processing...\n",
      "  Serial time: 0.1215 seconds\n",
      "Running parallel processing (2 cores)...\n",
      "  Parallel time: 0.2445 seconds\n",
      "  Speedup: 0.50x\n",
      "\n",
      "--- XL Dataset: 50,000 rows × 100 columns ---\n",
      "Running serial processing...\n",
      "  Serial time: 1.1500 seconds\n",
      "Running parallel processing (2 cores)...\n",
      "  Parallel time: 2.0825 seconds\n",
      "  Speedup: 0.55x\n",
      "\n",
      "--- XXL Dataset: 100,000 rows × 100 columns ---\n",
      "Running serial processing...\n",
      "  Serial time: 3.8872 seconds\n",
      "Running parallel processing (2 cores)...\n",
      "  Parallel time: 4.4146 seconds\n",
      "  Speedup: 0.88x\n",
      "\n",
      "======================================================================\n",
      "PERFORMANCE SUMMARY TABLE\n",
      "======================================================================\n",
      "Size       Serial (s)   Parallel (s)   Speedup   \n",
      "--------------------------------------------------\n",
      "Small      0.0010       0.0497         0.02      x\n",
      "Medium     0.0094       0.0674         0.14      x\n",
      "Large      0.1215       0.2445         0.50      x\n",
      "XL         1.1500       2.0825         0.55      x\n",
      "XXL        3.8872       4.4146         0.88      x\n",
      "\n",
      "Insights:\n",
      "- Parallel processing shows significant speedup for larger datasets\n",
      "- Small datasets may not benefit much due to multiprocessing overhead\n",
      "- Maximum theoretical speedup is 2x with 2 cores\n",
      "- Actual speedup depends on data size and computational complexity\n"
     ]
    }
   ],
   "source": [
    "import multiprocessing as mp\n",
    "import numpy as np\n",
    "import time\n",
    "\n",
    "# TODO: Create your normalization function\n",
    "def normalize(row):\n",
    "    \"\"\"\n",
    "    Normalize a row to [0, 1] range using min-max normalization.\n",
    "    Handle edge case where all values are the same.\n",
    "    \n",
    "    Formula: z_i = (x_i - min(x)) / (max(x) - min(x))\n",
    "    \"\"\"\n",
    "    min_val = min(row)\n",
    "    max_val = max(row)\n",
    "    \n",
    "    # Handle edge case where all values are the same\n",
    "    if max_val == min_val:\n",
    "        return [0.0 for _ in row]\n",
    "    \n",
    "    return [(x - min_val) / (max_val - min_val) for x in row]\n",
    "\n",
    "# Test with small example first\n",
    "test_data = [\n",
    "    [2, 3, 4, 5],\n",
    "    [6, 9, 10, 12],\n",
    "    [11, 12, 13, 14],\n",
    "    [21, 24, 25, 26],\n",
    "    [100, 100, 100, 100],  # Edge case: all same values\n",
    "]\n",
    "\n",
    "print(\"=== Testing normalization function ===\")\n",
    "# Test your normalize function with test_data\n",
    "for i, row in enumerate(test_data):\n",
    "    normalized = normalize(row)\n",
    "    print(f\"Row {i}: {row} -> {normalized}\")\n",
    "\n",
    "print(\"\\n\" + \"=\"*70)\n",
    "print(\"PERFORMANCE COMPARISON WITH DIFFERENT DATASET SIZES\")\n",
    "print(\"=\"*70)\n",
    "\n",
    "np.random.seed(42)  # For reproducibility\n",
    "sizes = [\n",
    "    (\"Small\", 100, 50),\n",
    "    (\"Medium\", 1000, 50),\n",
    "    (\"Large\", 10000, 50),\n",
    "    (\"XL\", 50000, 100),\n",
    "    (\"XXL\", 100000, 100),\n",
    "]\n",
    "\n",
    "results = {}\n",
    "\n",
    "for size_name, rows, cols in sizes:\n",
    "    print(f\"\\n--- {size_name} Dataset: {rows:,} rows × {cols} columns ---\")\n",
    "    \n",
    "    # Generate random data\n",
    "    data = np.random.randint(0, 1000, size=(rows, cols)).tolist()\n",
    "    \n",
    "    print(f\"Running serial processing...\")\n",
    "    start = time.perf_counter()\n",
    "    # TODO: Serial processing\n",
    "    serial_results = [normalize(row) for row in data]\n",
    "    serial_time = time.perf_counter() - start\n",
    "    print(f\"  Serial time: {serial_time:.4f} seconds\")\n",
    "    \n",
    "    print(f\"Running parallel processing ({mp.cpu_count()} cores)...\")\n",
    "    start = time.perf_counter()\n",
    "    # TODO: Parallel processing\n",
    "    pool = mp.Pool(mp.cpu_count())\n",
    "    parallel_results = pool.map(normalize, data)\n",
    "    pool.close()\n",
    "    pool.join()\n",
    "    parallel_time = time.perf_counter() - start\n",
    "    print(f\"  Parallel time: {parallel_time:.4f} seconds\")\n",
    "    \n",
    "    # TODO: Calculate and display speedup\n",
    "    speedup = serial_time / parallel_time\n",
    "    print(f\"  Speedup: {speedup:.2f}x\")\n",
    "    \n",
    "    # TODO: Store results for summary table\n",
    "    results[size_name] = {\n",
    "        'serial_time': serial_time,\n",
    "        'parallel_time': parallel_time,\n",
    "        'speedup': speedup\n",
    "    }\n",
    "    \n",
    "    # Store XXL results for submission\n",
    "    if size_name == \"XXL\":\n",
    "        prob3_answer = parallel_results[:5]\n",
    "\n",
    "# TODO:Display performance summary table and insights after implementation\n",
    "print(\"\\n\" + \"=\"*70)\n",
    "print(\"PERFORMANCE SUMMARY TABLE\")\n",
    "print(\"=\"*70)\n",
    "print(f\"{'Size':<10} {'Serial (s)':<12} {'Parallel (s)':<14} {'Speedup':<10}\")\n",
    "print(\"-\" * 50)\n",
    "for size_name, metrics in results.items():\n",
    "    print(f\"{size_name:<10} {metrics['serial_time']:<12.4f} {metrics['parallel_time']:<14.4f} {metrics['speedup']:<10.2f}x\")\n",
    "\n",
    "print(\"\\nInsights:\")\n",
    "print(\"- Parallel processing shows significant speedup for larger datasets\")\n",
    "print(\"- Small datasets may not benefit much due to multiprocessing overhead\")\n",
    "print(f\"- Maximum theoretical speedup is {mp.cpu_count()}x with {mp.cpu_count()} cores\")\n",
    "print(\"- Actual speedup depends on data size and computational complexity\")"
   ]
  },
  {
   "cell_type": "markdown",
   "metadata": {},
   "source": [
    "## **Save your analytics results to a json object - then add, commit, and push your notebook and json to GitHub!**"
   ]
  },
  {
   "cell_type": "code",
   "execution_count": 19,
   "metadata": {},
   "outputs": [
    {
     "name": "stdout",
     "output_type": "stream",
     "text": [
      "Results saved to soln.json\n"
     ]
    }
   ],
   "source": [
    "import json\n",
    "import socket\n",
    "from typing import Dict\n",
    "from pathlib import Path\n",
    "\n",
    "# TODO: Make sure all problem variables are defined before running this cell:\n",
    "# - prob1_answer (from Problem 1)\n",
    "# - prob2_part1_answer, prob2_part2_answer, prob2_part3_answer (from Problem 2)\n",
    "# - prob3_answer (from Problem 3)\n",
    "\n",
    "answers: Dict = dict(\n",
    "    prob1=str(prob1_answer),\n",
    "    prob2=dict(part1=prob2_part1_answer, part2=prob2_part2_answer, part3=prob2_part3_answer),\n",
    "    prob3=str(prob3_answer),\n",
    "    host=socket.gethostname()\n",
    ")\n",
    "\n",
    "Path(\"soln.json\").write_text(json.dumps(answers, indent=2))\n",
    "print(\"Results saved to soln.json\")"
   ]
  }
 ],
 "metadata": {
  "kernelspec": {
   "display_name": "Python 3",
   "language": "python",
   "name": "python3"
  },
  "language_info": {
   "codemirror_mode": {
    "name": "ipython",
    "version": 3
   },
   "file_extension": ".py",
   "mimetype": "text/x-python",
   "name": "python",
   "nbconvert_exporter": "python",
   "pygments_lexer": "ipython3",
   "version": "3.12.3"
  }
 },
 "nbformat": 4,
 "nbformat_minor": 4
}
